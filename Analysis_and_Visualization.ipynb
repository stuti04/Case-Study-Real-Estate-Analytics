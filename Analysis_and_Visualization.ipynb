{
 "cells": [
  {
   "cell_type": "markdown",
   "id": "415a8b06",
   "metadata": {},
   "source": [
    "### **ESTABLISHING AND TESTING CONNECTION WITH MYSQL DATABASE**"
   ]
  },
  {
   "cell_type": "code",
   "execution_count": 1,
   "id": "872dc877",
   "metadata": {},
   "outputs": [],
   "source": [
    "import pymysql"
   ]
  },
  {
   "cell_type": "code",
   "execution_count": 2,
   "id": "4f7ea7ac",
   "metadata": {},
   "outputs": [],
   "source": [
    "conn = pymysql.connect(\n",
    "    host = 'localhost',\n",
    "    user = 'root',\n",
    "    password = 'DMAProject',\n",
    "    db = 're'\n",
    ")"
   ]
  },
  {
   "cell_type": "code",
   "execution_count": 3,
   "id": "e974af7e",
   "metadata": {},
   "outputs": [],
   "source": [
    "cur = conn.cursor()"
   ]
  },
  {
   "cell_type": "code",
   "execution_count": 5,
   "id": "62a78dda",
   "metadata": {},
   "outputs": [
    {
     "data": {
      "text/plain": [
       "1"
      ]
     },
     "execution_count": 5,
     "metadata": {},
     "output_type": "execute_result"
    }
   ],
   "source": [
    "cur.execute(\"select @@version\")"
   ]
  },
  {
   "cell_type": "code",
   "execution_count": 6,
   "id": "ee715313",
   "metadata": {},
   "outputs": [],
   "source": [
    "output = cur.fetchall()"
   ]
  },
  {
   "cell_type": "code",
   "execution_count": 7,
   "id": "150d155b",
   "metadata": {},
   "outputs": [
    {
     "name": "stdout",
     "output_type": "stream",
     "text": [
      "(('8.0.31',),)\n"
     ]
    }
   ],
   "source": [
    "print(output)"
   ]
  },
  {
   "cell_type": "code",
   "execution_count": 8,
   "id": "8408343f",
   "metadata": {},
   "outputs": [
    {
     "data": {
      "text/plain": [
       "14"
      ]
     },
     "execution_count": 8,
     "metadata": {},
     "output_type": "execute_result"
    }
   ],
   "source": [
    "cur.execute(\"select * from agent_details\")"
   ]
  },
  {
   "cell_type": "code",
   "execution_count": 10,
   "id": "4b1abfbf",
   "metadata": {},
   "outputs": [],
   "source": [
    "output = cur.fetchall()"
   ]
  },
  {
   "cell_type": "code",
   "execution_count": 11,
   "id": "7d69c0a6",
   "metadata": {},
   "outputs": [
    {
     "name": "stdout",
     "output_type": "stream",
     "text": [
      "(1001, 'Company Agent', 'Allyn Jansie', 'Female', 'Queens', '737-596-4600', 'ajansie0@mediafire.com', '4 Eagan Way', 'Pantian', None)\n",
      "(1002, 'Company Agent', 'Demetri Grishakin', 'Male', 'Manhattan', '507-146-7596', 'dgrishakin1@ucoz.ru', '65 Westridge Circle', 'Shatian', None)\n",
      "(1003, 'Company Agent', \"Thekla O'Hanley\", 'Female', 'Staten Island', '187-663-8314', 'tohanley2@delicious.com', '8 Graceland Point', 'Bujaków', '43-356')\n",
      "(1004, 'Company Agent', 'Charles Vearncomb', None, 'Brooklyn', '748-588-2657', 'cvearncomb3@vinaora.com', '48013 Center Center', 'Kotri', '76000')\n",
      "(1005, 'Third-Party Agent', 'Torey Manntschke', None, 'Brooklyn', '920-427-5141', 'tmanntschke4@163.com', '498 Anthes Alley', 'Légua', '3830-247')\n",
      "(1006, 'Company Agent', 'Franklin Jorg', None, 'Brooklyn', '482-772-9815', 'fjorg5@bandcamp.com', '89571 Maywood Avenue', 'Adolfo Lopez Mateos', '56528')\n",
      "(1007, 'Third-Party Agent', 'Ashlee Trayte', 'Female', 'Staten Island', '656-428-0454', 'atrayte6@msn.com', '9191 Claremont Parkway', 'Hostos', '11403')\n",
      "(1008, 'Company Agent', 'Barnard Akitt', 'Male', 'Queens', '113-853-6034', 'bakitt7@mac.com', '531 3rd Circle', 'Taraco', None)\n",
      "(1009, 'Company Agent', 'Baillie Charpling', 'Male', 'Brooklyn', '457-852-1570', 'bcharpling8@bbc.co.uk', '80291 Lerdahl Trail', 'Ülken', None)\n",
      "(1010, 'Company Agent', 'Bari Semper', 'Female', 'Manhattan', '421-488-1491', 'bsemper9@rambler.ru', '8 Alpine Way', 'Anwen', None)\n",
      "(1011, 'Third-Party Agent', 'Jessika Caesman', 'Female', 'Brooklyn', '834-517-4436', 'jcaesmana@squidoo.com', '3117 Sloan Plaza', 'Tunjë', None)\n",
      "(1012, 'Third-Party Agent', 'Tallie Tesyro', 'Female', 'Brooklyn', '796-706-4959', 'ttesyrob@digg.com', '9 2nd Pass', 'El Corozal', None)\n",
      "(1013, 'Third-Party Agent', 'Normy Kerins', 'Male', 'Manhattan', '780-624-8193', 'nkerinsc@hexun.com', '812 Thackeray Avenue', 'Rosthern', 'B0L')\n",
      "(1014, 'Third-Party Agent', 'Randi Parkhouse', 'Male', 'Manhattan', '982-585-1137', 'rparkhoused@trellian.com', '688 Starling Avenue', 'Isu', None)\n"
     ]
    }
   ],
   "source": [
    "for i in output:\n",
    "    print(i)"
   ]
  },
  {
   "cell_type": "markdown",
   "id": "263971b5",
   "metadata": {},
   "source": [
    "### QUERIES TO GET REQUIRED METRICS\n",
    "##### 1. Get the total properties sold, total sale value for every agent ID\n",
    "##### 2. Get average rating against every agent ID"
   ]
  },
  {
   "cell_type": "code",
   "execution_count": 124,
   "id": "c2f35d6b",
   "metadata": {},
   "outputs": [],
   "source": [
    "import numpy as np\n",
    "import pandas as pd\n",
    "import matplotlib.pyplot as plt\n",
    "import seaborn as sns\n",
    "from io import StringIO"
   ]
  },
  {
   "cell_type": "code",
   "execution_count": 125,
   "id": "9ac27476",
   "metadata": {},
   "outputs": [
    {
     "data": {
      "text/plain": [
       "14"
      ]
     },
     "execution_count": 125,
     "metadata": {},
     "output_type": "execute_result"
    }
   ],
   "source": [
    "cur.execute('''select a.agentID, \n",
    "                sum(pl.rate) as total_sale_value, \n",
    "                count(distinct pl.propID) as properties_sold\n",
    "                from\n",
    "                re.property_listing as pl\n",
    "                left join re.creates as c on c.propID = pl.propID\n",
    "                left join re.agent_details as a on a.agentID = c.agentID\n",
    "                group by a.agentID\n",
    "                order by total_sale_value desc, properties_sold desc''')"
   ]
  },
  {
   "cell_type": "code",
   "execution_count": 126,
   "id": "8d065441",
   "metadata": {},
   "outputs": [],
   "source": [
    "agent_performance1 = cur.fetchall()"
   ]
  },
  {
   "cell_type": "code",
   "execution_count": 127,
   "id": "895c397c",
   "metadata": {},
   "outputs": [],
   "source": [
    "agent_performance1 = pd.DataFrame(agent_performance1)"
   ]
  },
  {
   "cell_type": "code",
   "execution_count": 128,
   "id": "e9abf1b4",
   "metadata": {},
   "outputs": [],
   "source": [
    "agent_performance1.columns = ['Agent ID', 'Total Sale Value', 'Properties Sold']"
   ]
  },
  {
   "cell_type": "code",
   "execution_count": 129,
   "id": "0387ed0a",
   "metadata": {},
   "outputs": [
    {
     "data": {
      "text/plain": [
       "14"
      ]
     },
     "execution_count": 129,
     "metadata": {},
     "output_type": "execute_result"
    }
   ],
   "source": [
    "cur.execute('''select agentID, format(avg(rating), 2) as avg_rating\n",
    "               from re.feedback\n",
    "               group by agentID\n",
    "               order by avg_rating desc''')"
   ]
  },
  {
   "cell_type": "code",
   "execution_count": 130,
   "id": "c3b5ee8f",
   "metadata": {},
   "outputs": [],
   "source": [
    "agent_performance2 = cur.fetchall()"
   ]
  },
  {
   "cell_type": "code",
   "execution_count": 131,
   "id": "b020317f",
   "metadata": {},
   "outputs": [],
   "source": [
    "agent_performance2 = pd.DataFrame(agent_performance2)"
   ]
  },
  {
   "cell_type": "code",
   "execution_count": 132,
   "id": "15f72ea6",
   "metadata": {},
   "outputs": [],
   "source": [
    "agent_performance2.columns = ['Agent ID', 'Average Rating']"
   ]
  },
  {
   "cell_type": "code",
   "execution_count": 133,
   "id": "2426a7eb",
   "metadata": {},
   "outputs": [
    {
     "data": {
      "text/plain": [
       "pandas.core.frame.DataFrame"
      ]
     },
     "execution_count": 133,
     "metadata": {},
     "output_type": "execute_result"
    }
   ],
   "source": [
    "type(agent_performance2)"
   ]
  },
  {
   "cell_type": "code",
   "execution_count": 134,
   "id": "55e94268",
   "metadata": {},
   "outputs": [
    {
     "name": "stdout",
     "output_type": "stream",
     "text": [
      "    Agent ID Average Rating\n",
      "0       1007           4.38\n",
      "1       1009           4.00\n",
      "2       1012           4.00\n",
      "3       1010           3.38\n",
      "4       1004           3.30\n",
      "5       1002           3.13\n",
      "6       1003           3.00\n",
      "7       1008           2.88\n",
      "8       1013           2.83\n",
      "9       1006           2.75\n",
      "10      1001           2.67\n",
      "11      1005           2.63\n",
      "12      1014           2.25\n",
      "13      1011           1.75\n"
     ]
    }
   ],
   "source": [
    "print(agent_performance2)"
   ]
  },
  {
   "cell_type": "code",
   "execution_count": 135,
   "id": "10578530",
   "metadata": {},
   "outputs": [
    {
     "name": "stdout",
     "output_type": "stream",
     "text": [
      "    Agent ID Total Sale Value  Properties Sold\n",
      "0       1012         12499030               57\n",
      "1       1009          8847876               34\n",
      "2       1010          7915462               36\n",
      "3       1007          6505882               29\n",
      "4       1003          6129063               27\n",
      "5       1008          5147289               24\n",
      "6       1002          5043268               21\n",
      "7       1013          4825781               19\n",
      "8       1006          3036858               11\n",
      "9       1004          2426154               10\n",
      "10      1005          2397649                8\n",
      "11      1011          2257104                9\n",
      "12      1001          1795025                8\n",
      "13      1014          1497290                7\n"
     ]
    }
   ],
   "source": [
    "print(agent_performance1)"
   ]
  },
  {
   "cell_type": "code",
   "execution_count": 136,
   "id": "b8dafd51",
   "metadata": {},
   "outputs": [],
   "source": [
    "agent_performance3 = agent_performance1[['Agent ID', 'Total Sale Value']]"
   ]
  },
  {
   "cell_type": "code",
   "execution_count": 137,
   "id": "0d04d069",
   "metadata": {},
   "outputs": [],
   "source": [
    "agent_performance1 = agent_performance1[['Agent ID','Properties Sold']]"
   ]
  },
  {
   "cell_type": "markdown",
   "id": "e68d03e2",
   "metadata": {},
   "source": [
    "### **DATA PREPROCESSING FOR VISUALIZATION**\n",
    "##### 1. Bucketing agents based on best rated, average rated and lowest rated\n",
    "##### 2. Convert it to a dataframe & combine with property sales values\n",
    "##### 3. Change data types for some columns"
   ]
  },
  {
   "cell_type": "code",
   "execution_count": 178,
   "id": "d27ef0b0",
   "metadata": {},
   "outputs": [],
   "source": [
    "agent_performance2['Agent ID'] = agent_performance2['Agent ID'].astype(str)\n",
    "agent_performance2['Average Rating'] = agent_performance2['Average Rating'].astype(float)"
   ]
  },
  {
   "cell_type": "code",
   "execution_count": 138,
   "id": "ba1eaca5",
   "metadata": {},
   "outputs": [],
   "source": [
    "df = agent_performance2.iloc[0:6]\n",
    "above_avg_rating = [i for i in df['Agent ID']]\n",
    "category_name = ['Top 6','Top 6','Top 6',\n",
    "                 'Top 6','Top 6','Top 6']\n",
    "list1 =[above_avg_rating,category_name]"
   ]
  },
  {
   "cell_type": "code",
   "execution_count": 139,
   "id": "983a53db",
   "metadata": {},
   "outputs": [],
   "source": [
    "df1 = agent_performance2.iloc[6:10]\n",
    "above_avg_rating = [i for i in df1['Agent ID']]\n",
    "category_name = ['Middle 4','Middle 4','Middle 4', 'Middle 4']\n",
    "list2 =[above_avg_rating,category_name]"
   ]
  },
  {
   "cell_type": "code",
   "execution_count": 140,
   "id": "073a8ace",
   "metadata": {},
   "outputs": [],
   "source": [
    "df2 = agent_performance2.iloc[10:14]\n",
    "above_avg_rating = [i for i in df2['Agent ID']]\n",
    "category_name = ['Bottom 4','Bottom 4','Bottom 4', 'Bottom 4']\n",
    "list3 =[above_avg_rating,category_name]"
   ]
  },
  {
   "cell_type": "code",
   "execution_count": 141,
   "id": "290a309a",
   "metadata": {},
   "outputs": [],
   "source": [
    "dft = pd.DataFrame (list1).transpose()\n",
    "dfm = pd.DataFrame (list2).transpose()\n",
    "dfb = pd.DataFrame (list3).transpose()"
   ]
  },
  {
   "cell_type": "code",
   "execution_count": 142,
   "id": "c4f11219",
   "metadata": {},
   "outputs": [
    {
     "data": {
      "text/html": [
       "<div>\n",
       "<style scoped>\n",
       "    .dataframe tbody tr th:only-of-type {\n",
       "        vertical-align: middle;\n",
       "    }\n",
       "\n",
       "    .dataframe tbody tr th {\n",
       "        vertical-align: top;\n",
       "    }\n",
       "\n",
       "    .dataframe thead th {\n",
       "        text-align: right;\n",
       "    }\n",
       "</style>\n",
       "<table border=\"1\" class=\"dataframe\">\n",
       "  <thead>\n",
       "    <tr style=\"text-align: right;\">\n",
       "      <th></th>\n",
       "      <th>Agent ID</th>\n",
       "      <th>Category</th>\n",
       "    </tr>\n",
       "  </thead>\n",
       "  <tbody>\n",
       "    <tr>\n",
       "      <th>0</th>\n",
       "      <td>1007</td>\n",
       "      <td>Top 6</td>\n",
       "    </tr>\n",
       "    <tr>\n",
       "      <th>1</th>\n",
       "      <td>1009</td>\n",
       "      <td>Top 6</td>\n",
       "    </tr>\n",
       "    <tr>\n",
       "      <th>2</th>\n",
       "      <td>1012</td>\n",
       "      <td>Top 6</td>\n",
       "    </tr>\n",
       "    <tr>\n",
       "      <th>3</th>\n",
       "      <td>1010</td>\n",
       "      <td>Top 6</td>\n",
       "    </tr>\n",
       "    <tr>\n",
       "      <th>4</th>\n",
       "      <td>1004</td>\n",
       "      <td>Top 6</td>\n",
       "    </tr>\n",
       "    <tr>\n",
       "      <th>5</th>\n",
       "      <td>1002</td>\n",
       "      <td>Top 6</td>\n",
       "    </tr>\n",
       "    <tr>\n",
       "      <th>0</th>\n",
       "      <td>1003</td>\n",
       "      <td>Middle 4</td>\n",
       "    </tr>\n",
       "    <tr>\n",
       "      <th>1</th>\n",
       "      <td>1008</td>\n",
       "      <td>Middle 4</td>\n",
       "    </tr>\n",
       "    <tr>\n",
       "      <th>2</th>\n",
       "      <td>1013</td>\n",
       "      <td>Middle 4</td>\n",
       "    </tr>\n",
       "    <tr>\n",
       "      <th>3</th>\n",
       "      <td>1006</td>\n",
       "      <td>Middle 4</td>\n",
       "    </tr>\n",
       "    <tr>\n",
       "      <th>0</th>\n",
       "      <td>1001</td>\n",
       "      <td>Bottom 4</td>\n",
       "    </tr>\n",
       "    <tr>\n",
       "      <th>1</th>\n",
       "      <td>1005</td>\n",
       "      <td>Bottom 4</td>\n",
       "    </tr>\n",
       "    <tr>\n",
       "      <th>2</th>\n",
       "      <td>1014</td>\n",
       "      <td>Bottom 4</td>\n",
       "    </tr>\n",
       "    <tr>\n",
       "      <th>3</th>\n",
       "      <td>1011</td>\n",
       "      <td>Bottom 4</td>\n",
       "    </tr>\n",
       "  </tbody>\n",
       "</table>\n",
       "</div>"
      ],
      "text/plain": [
       "  Agent ID  Category\n",
       "0     1007     Top 6\n",
       "1     1009     Top 6\n",
       "2     1012     Top 6\n",
       "3     1010     Top 6\n",
       "4     1004     Top 6\n",
       "5     1002     Top 6\n",
       "0     1003  Middle 4\n",
       "1     1008  Middle 4\n",
       "2     1013  Middle 4\n",
       "3     1006  Middle 4\n",
       "0     1001  Bottom 4\n",
       "1     1005  Bottom 4\n",
       "2     1014  Bottom 4\n",
       "3     1011  Bottom 4"
      ]
     },
     "execution_count": 142,
     "metadata": {},
     "output_type": "execute_result"
    }
   ],
   "source": [
    "union_df = pd.concat([dft, dfm, dfb])\n",
    "union_df.columns = ['Agent ID','Category']\n",
    "union_df"
   ]
  },
  {
   "cell_type": "code",
   "execution_count": 143,
   "id": "c656fb47",
   "metadata": {},
   "outputs": [],
   "source": [
    "union_df = union_df.dropna(how='any',axis=0)"
   ]
  },
  {
   "cell_type": "code",
   "execution_count": 144,
   "id": "976fc628",
   "metadata": {},
   "outputs": [
    {
     "data": {
      "text/html": [
       "<div>\n",
       "<style scoped>\n",
       "    .dataframe tbody tr th:only-of-type {\n",
       "        vertical-align: middle;\n",
       "    }\n",
       "\n",
       "    .dataframe tbody tr th {\n",
       "        vertical-align: top;\n",
       "    }\n",
       "\n",
       "    .dataframe thead th {\n",
       "        text-align: right;\n",
       "    }\n",
       "</style>\n",
       "<table border=\"1\" class=\"dataframe\">\n",
       "  <thead>\n",
       "    <tr style=\"text-align: right;\">\n",
       "      <th></th>\n",
       "      <th>Agent ID</th>\n",
       "      <th>Category</th>\n",
       "    </tr>\n",
       "  </thead>\n",
       "  <tbody>\n",
       "    <tr>\n",
       "      <th>0</th>\n",
       "      <td>1007</td>\n",
       "      <td>Top 6</td>\n",
       "    </tr>\n",
       "    <tr>\n",
       "      <th>1</th>\n",
       "      <td>1009</td>\n",
       "      <td>Top 6</td>\n",
       "    </tr>\n",
       "    <tr>\n",
       "      <th>2</th>\n",
       "      <td>1012</td>\n",
       "      <td>Top 6</td>\n",
       "    </tr>\n",
       "    <tr>\n",
       "      <th>3</th>\n",
       "      <td>1010</td>\n",
       "      <td>Top 6</td>\n",
       "    </tr>\n",
       "    <tr>\n",
       "      <th>4</th>\n",
       "      <td>1004</td>\n",
       "      <td>Top 6</td>\n",
       "    </tr>\n",
       "    <tr>\n",
       "      <th>5</th>\n",
       "      <td>1002</td>\n",
       "      <td>Top 6</td>\n",
       "    </tr>\n",
       "    <tr>\n",
       "      <th>0</th>\n",
       "      <td>1003</td>\n",
       "      <td>Middle 4</td>\n",
       "    </tr>\n",
       "    <tr>\n",
       "      <th>1</th>\n",
       "      <td>1008</td>\n",
       "      <td>Middle 4</td>\n",
       "    </tr>\n",
       "    <tr>\n",
       "      <th>2</th>\n",
       "      <td>1013</td>\n",
       "      <td>Middle 4</td>\n",
       "    </tr>\n",
       "    <tr>\n",
       "      <th>3</th>\n",
       "      <td>1006</td>\n",
       "      <td>Middle 4</td>\n",
       "    </tr>\n",
       "    <tr>\n",
       "      <th>0</th>\n",
       "      <td>1001</td>\n",
       "      <td>Bottom 4</td>\n",
       "    </tr>\n",
       "    <tr>\n",
       "      <th>1</th>\n",
       "      <td>1005</td>\n",
       "      <td>Bottom 4</td>\n",
       "    </tr>\n",
       "    <tr>\n",
       "      <th>2</th>\n",
       "      <td>1014</td>\n",
       "      <td>Bottom 4</td>\n",
       "    </tr>\n",
       "    <tr>\n",
       "      <th>3</th>\n",
       "      <td>1011</td>\n",
       "      <td>Bottom 4</td>\n",
       "    </tr>\n",
       "  </tbody>\n",
       "</table>\n",
       "</div>"
      ],
      "text/plain": [
       "  Agent ID  Category\n",
       "0     1007     Top 6\n",
       "1     1009     Top 6\n",
       "2     1012     Top 6\n",
       "3     1010     Top 6\n",
       "4     1004     Top 6\n",
       "5     1002     Top 6\n",
       "0     1003  Middle 4\n",
       "1     1008  Middle 4\n",
       "2     1013  Middle 4\n",
       "3     1006  Middle 4\n",
       "0     1001  Bottom 4\n",
       "1     1005  Bottom 4\n",
       "2     1014  Bottom 4\n",
       "3     1011  Bottom 4"
      ]
     },
     "execution_count": 144,
     "metadata": {},
     "output_type": "execute_result"
    }
   ],
   "source": [
    "union_df"
   ]
  },
  {
   "cell_type": "code",
   "execution_count": 145,
   "id": "62b8548d",
   "metadata": {},
   "outputs": [
    {
     "data": {
      "text/html": [
       "<div>\n",
       "<style scoped>\n",
       "    .dataframe tbody tr th:only-of-type {\n",
       "        vertical-align: middle;\n",
       "    }\n",
       "\n",
       "    .dataframe tbody tr th {\n",
       "        vertical-align: top;\n",
       "    }\n",
       "\n",
       "    .dataframe thead th {\n",
       "        text-align: right;\n",
       "    }\n",
       "</style>\n",
       "<table border=\"1\" class=\"dataframe\">\n",
       "  <thead>\n",
       "    <tr style=\"text-align: right;\">\n",
       "      <th></th>\n",
       "      <th>Agent ID</th>\n",
       "      <th>Properties Sold</th>\n",
       "    </tr>\n",
       "  </thead>\n",
       "  <tbody>\n",
       "    <tr>\n",
       "      <th>0</th>\n",
       "      <td>1012</td>\n",
       "      <td>57</td>\n",
       "    </tr>\n",
       "    <tr>\n",
       "      <th>1</th>\n",
       "      <td>1009</td>\n",
       "      <td>34</td>\n",
       "    </tr>\n",
       "    <tr>\n",
       "      <th>2</th>\n",
       "      <td>1010</td>\n",
       "      <td>36</td>\n",
       "    </tr>\n",
       "    <tr>\n",
       "      <th>3</th>\n",
       "      <td>1007</td>\n",
       "      <td>29</td>\n",
       "    </tr>\n",
       "    <tr>\n",
       "      <th>4</th>\n",
       "      <td>1003</td>\n",
       "      <td>27</td>\n",
       "    </tr>\n",
       "    <tr>\n",
       "      <th>5</th>\n",
       "      <td>1008</td>\n",
       "      <td>24</td>\n",
       "    </tr>\n",
       "    <tr>\n",
       "      <th>6</th>\n",
       "      <td>1002</td>\n",
       "      <td>21</td>\n",
       "    </tr>\n",
       "    <tr>\n",
       "      <th>7</th>\n",
       "      <td>1013</td>\n",
       "      <td>19</td>\n",
       "    </tr>\n",
       "    <tr>\n",
       "      <th>8</th>\n",
       "      <td>1006</td>\n",
       "      <td>11</td>\n",
       "    </tr>\n",
       "    <tr>\n",
       "      <th>9</th>\n",
       "      <td>1004</td>\n",
       "      <td>10</td>\n",
       "    </tr>\n",
       "    <tr>\n",
       "      <th>10</th>\n",
       "      <td>1005</td>\n",
       "      <td>8</td>\n",
       "    </tr>\n",
       "    <tr>\n",
       "      <th>11</th>\n",
       "      <td>1011</td>\n",
       "      <td>9</td>\n",
       "    </tr>\n",
       "    <tr>\n",
       "      <th>12</th>\n",
       "      <td>1001</td>\n",
       "      <td>8</td>\n",
       "    </tr>\n",
       "    <tr>\n",
       "      <th>13</th>\n",
       "      <td>1014</td>\n",
       "      <td>7</td>\n",
       "    </tr>\n",
       "  </tbody>\n",
       "</table>\n",
       "</div>"
      ],
      "text/plain": [
       "    Agent ID  Properties Sold\n",
       "0       1012               57\n",
       "1       1009               34\n",
       "2       1010               36\n",
       "3       1007               29\n",
       "4       1003               27\n",
       "5       1008               24\n",
       "6       1002               21\n",
       "7       1013               19\n",
       "8       1006               11\n",
       "9       1004               10\n",
       "10      1005                8\n",
       "11      1011                9\n",
       "12      1001                8\n",
       "13      1014                7"
      ]
     },
     "execution_count": 145,
     "metadata": {},
     "output_type": "execute_result"
    }
   ],
   "source": [
    "agent_performance1"
   ]
  },
  {
   "cell_type": "code",
   "execution_count": 155,
   "id": "4ea4c677",
   "metadata": {},
   "outputs": [],
   "source": [
    "contribution = pd.merge(agent_performance3, union_df, on=['Agent ID','Agent ID'])"
   ]
  },
  {
   "cell_type": "code",
   "execution_count": 156,
   "id": "2c4aeb10",
   "metadata": {},
   "outputs": [
    {
     "data": {
      "text/html": [
       "<div>\n",
       "<style scoped>\n",
       "    .dataframe tbody tr th:only-of-type {\n",
       "        vertical-align: middle;\n",
       "    }\n",
       "\n",
       "    .dataframe tbody tr th {\n",
       "        vertical-align: top;\n",
       "    }\n",
       "\n",
       "    .dataframe thead th {\n",
       "        text-align: right;\n",
       "    }\n",
       "</style>\n",
       "<table border=\"1\" class=\"dataframe\">\n",
       "  <thead>\n",
       "    <tr style=\"text-align: right;\">\n",
       "      <th></th>\n",
       "      <th>Agent ID</th>\n",
       "      <th>Total Sale Value</th>\n",
       "      <th>Category</th>\n",
       "    </tr>\n",
       "  </thead>\n",
       "  <tbody>\n",
       "    <tr>\n",
       "      <th>0</th>\n",
       "      <td>1012</td>\n",
       "      <td>12499030</td>\n",
       "      <td>Top 6</td>\n",
       "    </tr>\n",
       "    <tr>\n",
       "      <th>1</th>\n",
       "      <td>1009</td>\n",
       "      <td>8847876</td>\n",
       "      <td>Top 6</td>\n",
       "    </tr>\n",
       "    <tr>\n",
       "      <th>2</th>\n",
       "      <td>1010</td>\n",
       "      <td>7915462</td>\n",
       "      <td>Top 6</td>\n",
       "    </tr>\n",
       "    <tr>\n",
       "      <th>3</th>\n",
       "      <td>1007</td>\n",
       "      <td>6505882</td>\n",
       "      <td>Top 6</td>\n",
       "    </tr>\n",
       "    <tr>\n",
       "      <th>4</th>\n",
       "      <td>1003</td>\n",
       "      <td>6129063</td>\n",
       "      <td>Middle 4</td>\n",
       "    </tr>\n",
       "    <tr>\n",
       "      <th>5</th>\n",
       "      <td>1008</td>\n",
       "      <td>5147289</td>\n",
       "      <td>Middle 4</td>\n",
       "    </tr>\n",
       "    <tr>\n",
       "      <th>6</th>\n",
       "      <td>1002</td>\n",
       "      <td>5043268</td>\n",
       "      <td>Top 6</td>\n",
       "    </tr>\n",
       "    <tr>\n",
       "      <th>7</th>\n",
       "      <td>1013</td>\n",
       "      <td>4825781</td>\n",
       "      <td>Middle 4</td>\n",
       "    </tr>\n",
       "    <tr>\n",
       "      <th>8</th>\n",
       "      <td>1006</td>\n",
       "      <td>3036858</td>\n",
       "      <td>Middle 4</td>\n",
       "    </tr>\n",
       "    <tr>\n",
       "      <th>9</th>\n",
       "      <td>1004</td>\n",
       "      <td>2426154</td>\n",
       "      <td>Top 6</td>\n",
       "    </tr>\n",
       "    <tr>\n",
       "      <th>10</th>\n",
       "      <td>1005</td>\n",
       "      <td>2397649</td>\n",
       "      <td>Bottom 4</td>\n",
       "    </tr>\n",
       "    <tr>\n",
       "      <th>11</th>\n",
       "      <td>1011</td>\n",
       "      <td>2257104</td>\n",
       "      <td>Bottom 4</td>\n",
       "    </tr>\n",
       "    <tr>\n",
       "      <th>12</th>\n",
       "      <td>1001</td>\n",
       "      <td>1795025</td>\n",
       "      <td>Bottom 4</td>\n",
       "    </tr>\n",
       "    <tr>\n",
       "      <th>13</th>\n",
       "      <td>1014</td>\n",
       "      <td>1497290</td>\n",
       "      <td>Bottom 4</td>\n",
       "    </tr>\n",
       "  </tbody>\n",
       "</table>\n",
       "</div>"
      ],
      "text/plain": [
       "   Agent ID Total Sale Value  Category\n",
       "0      1012         12499030     Top 6\n",
       "1      1009          8847876     Top 6\n",
       "2      1010          7915462     Top 6\n",
       "3      1007          6505882     Top 6\n",
       "4      1003          6129063  Middle 4\n",
       "5      1008          5147289  Middle 4\n",
       "6      1002          5043268     Top 6\n",
       "7      1013          4825781  Middle 4\n",
       "8      1006          3036858  Middle 4\n",
       "9      1004          2426154     Top 6\n",
       "10     1005          2397649  Bottom 4\n",
       "11     1011          2257104  Bottom 4\n",
       "12     1001          1795025  Bottom 4\n",
       "13     1014          1497290  Bottom 4"
      ]
     },
     "execution_count": 156,
     "metadata": {},
     "output_type": "execute_result"
    }
   ],
   "source": [
    "contribution"
   ]
  },
  {
   "cell_type": "markdown",
   "id": "0884719b",
   "metadata": {},
   "source": [
    "### ** VISUALIZATIONS**\n",
    "##### 1. Agent wise properties sold\n",
    "##### 2. Agent wise total sales\n",
    "##### 3. Agent wise average rating\n",
    "##### 4. Contribution of agents to revenue - (categorized based on average ratings) "
   ]
  },
  {
   "cell_type": "code",
   "execution_count": 146,
   "id": "c9d10812",
   "metadata": {},
   "outputs": [
    {
     "data": {
      "image/png": "[encoded data removed]",
      "text/plain": [
       "<Figure size 640x480 with 1 Axes>"
      ]
     },
     "metadata": {},
     "output_type": "display_data"
    }
   ],
   "source": [
    "colors = sns.color_palette('light:b')[0:6]\n",
    "sns.set_style(\"darkgrid\")\n",
    "g1 = sns.barplot(data=agent_performance1, x=\"Agent ID\", y=\"Properties Sold\", \n",
    "                 order=agent_performance1.sort_values('Properties Sold')['Agent ID']) "
   ]
  },
  {
   "cell_type": "code",
   "execution_count": 147,
   "id": "6457a2c1",
   "metadata": {},
   "outputs": [
    {
     "data": {
      "image/png": "[encoded data removed]",
      "text/plain": [
       "<Figure size 640x480 with 1 Axes>"
      ]
     },
     "metadata": {},
     "output_type": "display_data"
    }
   ],
   "source": [
    "g2 = sns.barplot(data=agent_performance3, x=\"Agent ID\", y=\"Total Sale Value\",\n",
    "                 order=agent_performance3.sort_values('Total Sale Value')['Agent ID'])"
   ]
  },
  {
   "cell_type": "code",
   "execution_count": 180,
   "id": "ffc2073c",
   "metadata": {},
   "outputs": [
    {
     "data": {
      "image/png": "[encoded data removed]",
      "text/plain": [
       "<Figure size 640x480 with 1 Axes>"
      ]
     },
     "metadata": {},
     "output_type": "display_data"
    }
   ],
   "source": [
    "g3 = sns.barplot(data=agent_performance2, x=\"Agent ID\", y=\"Average Rating\",\n",
    "                 order=agent_performance2.sort_values('Average Rating')['Agent ID'])"
   ]
  },
  {
   "cell_type": "code",
   "execution_count": 157,
   "id": "86f46c72",
   "metadata": {},
   "outputs": [],
   "source": [
    "contribution = contribution.groupby(['Category'])['Total Sale Value'].sum().reset_index(name='Total Sales')"
   ]
  },
  {
   "cell_type": "code",
   "execution_count": 159,
   "id": "0da8666e",
   "metadata": {},
   "outputs": [],
   "source": [
    "total = contribution['Total Sales'].sum()"
   ]
  },
  {
   "cell_type": "code",
   "execution_count": 160,
   "id": "9cc043c5",
   "metadata": {},
   "outputs": [],
   "source": [
    "contribution['Sales Contribution %'] = contribution['Total Sales']"
   ]
  },
  {
   "cell_type": "code",
   "execution_count": 162,
   "id": "0a69b456",
   "metadata": {},
   "outputs": [],
   "source": [
    "contribution['Sales Contribution %'] = contribution['Sales Contribution %'] / total"
   ]
  },
  {
   "cell_type": "code",
   "execution_count": 163,
   "id": "1decffd6",
   "metadata": {},
   "outputs": [],
   "source": [
    "contribution['Sales Contribution %'] = contribution['Sales Contribution %'] * 100"
   ]
  },
  {
   "cell_type": "code",
   "execution_count": 165,
   "id": "f7007b48",
   "metadata": {},
   "outputs": [
    {
     "data": {
      "text/html": [
       "<div>\n",
       "<style scoped>\n",
       "    .dataframe tbody tr th:only-of-type {\n",
       "        vertical-align: middle;\n",
       "    }\n",
       "\n",
       "    .dataframe tbody tr th {\n",
       "        vertical-align: top;\n",
       "    }\n",
       "\n",
       "    .dataframe thead th {\n",
       "        text-align: right;\n",
       "    }\n",
       "</style>\n",
       "<table border=\"1\" class=\"dataframe\">\n",
       "  <thead>\n",
       "    <tr style=\"text-align: right;\">\n",
       "      <th></th>\n",
       "      <th>Category</th>\n",
       "      <th>Total Sales</th>\n",
       "      <th>Sales Contribution %</th>\n",
       "    </tr>\n",
       "  </thead>\n",
       "  <tbody>\n",
       "    <tr>\n",
       "      <th>0</th>\n",
       "      <td>Bottom 4</td>\n",
       "      <td>7947068</td>\n",
       "      <td>11.30069165414445942863867675</td>\n",
       "    </tr>\n",
       "    <tr>\n",
       "      <th>1</th>\n",
       "      <td>Middle 4</td>\n",
       "      <td>19138991</td>\n",
       "      <td>27.21555117716948209132988123</td>\n",
       "    </tr>\n",
       "    <tr>\n",
       "      <th>2</th>\n",
       "      <td>Top 6</td>\n",
       "      <td>43237672</td>\n",
       "      <td>61.48375716868605848003144202</td>\n",
       "    </tr>\n",
       "  </tbody>\n",
       "</table>\n",
       "</div>"
      ],
      "text/plain": [
       "   Category Total Sales           Sales Contribution %\n",
       "0  Bottom 4     7947068  11.30069165414445942863867675\n",
       "1  Middle 4    19138991  27.21555117716948209132988123\n",
       "2     Top 6    43237672  61.48375716868605848003144202"
      ]
     },
     "execution_count": 165,
     "metadata": {},
     "output_type": "execute_result"
    }
   ],
   "source": [
    "contribution"
   ]
  },
  {
   "cell_type": "code",
   "execution_count": 166,
   "id": "6802e599",
   "metadata": {},
   "outputs": [
    {
     "data": {
      "image/png": "[encoded data removed]",
      "text/plain": [
       "<Figure size 640x480 with 1 Axes>"
      ]
     },
     "metadata": {},
     "output_type": "display_data"
    }
   ],
   "source": [
    "colors = sns.color_palette('pastel')[0:10]\n",
    "g4 = plt.pie(contribution['Sales Contribution %'], labels = contribution['Category'], colors = colors, autopct='%.2f%%')"
   ]
  },
  {
   "cell_type": "code",
   "execution_count": null,
   "id": "5381b484",
   "metadata": {},
   "outputs": [],
   "source": []
  }
 ],
 "metadata": {
  "kernelspec": {
   "display_name": "Python 3 (ipykernel)",
   "language": "python",
   "name": "python3"
  },
  "language_info": {
   "codemirror_mode": {
    "name": "ipython",
    "version": 3
   },
   "file_extension": ".py",
   "mimetype": "text/x-python",
   "name": "python",
   "nbconvert_exporter": "python",
   "pygments_lexer": "ipython3",
   "version": "3.9.13"
  }
 },
 "nbformat": 4,
 "nbformat_minor": 5
}
